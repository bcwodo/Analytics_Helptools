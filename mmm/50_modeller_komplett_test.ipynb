{
 "cells": [
  {
   "cell_type": "code",
   "execution_count": 2,
   "metadata": {},
   "outputs": [],
   "source": [
    "import pandas as pd\n",
    "from modeller import *\n",
    "import matplotlib.pyplot as plt"
   ]
  },
  {
   "cell_type": "code",
   "execution_count": 3,
   "metadata": {},
   "outputs": [
    {
     "data": {
      "text/html": [
       "<div>\n",
       "<style scoped>\n",
       "    .dataframe tbody tr th:only-of-type {\n",
       "        vertical-align: middle;\n",
       "    }\n",
       "\n",
       "    .dataframe tbody tr th {\n",
       "        vertical-align: top;\n",
       "    }\n",
       "\n",
       "    .dataframe thead th {\n",
       "        text-align: right;\n",
       "    }\n",
       "</style>\n",
       "<table border=\"1\" class=\"dataframe\">\n",
       "  <thead>\n",
       "    <tr style=\"text-align: right;\">\n",
       "      <th></th>\n",
       "      <th>date</th>\n",
       "      <th>zeit</th>\n",
       "      <th>year</th>\n",
       "      <th>week</th>\n",
       "      <th>abs</th>\n",
       "      <th>noproms</th>\n",
       "      <th>proms</th>\n",
       "      <th>babs</th>\n",
       "      <th>zabs</th>\n",
       "      <th>preis</th>\n",
       "      <th>...</th>\n",
       "      <th>breit1</th>\n",
       "      <th>breit2</th>\n",
       "      <th>grptv</th>\n",
       "      <th>youtube</th>\n",
       "      <th>facebook</th>\n",
       "      <th>instagram</th>\n",
       "      <th>tiktok</th>\n",
       "      <th>programmatik</th>\n",
       "      <th>kamp</th>\n",
       "      <th>covid</th>\n",
       "    </tr>\n",
       "  </thead>\n",
       "  <tbody>\n",
       "    <tr>\n",
       "      <th>0</th>\n",
       "      <td>2019-01-06</td>\n",
       "      <td>2019-01-06</td>\n",
       "      <td>2019</td>\n",
       "      <td>1</td>\n",
       "      <td>171.92</td>\n",
       "      <td>98.20</td>\n",
       "      <td>73.72</td>\n",
       "      <td>137.94</td>\n",
       "      <td>33.98</td>\n",
       "      <td>4.48</td>\n",
       "      <td>...</td>\n",
       "      <td>1.34</td>\n",
       "      <td>1.19</td>\n",
       "      <td>0.0</td>\n",
       "      <td>0.0</td>\n",
       "      <td>0.0</td>\n",
       "      <td>0.0</td>\n",
       "      <td>0.0</td>\n",
       "      <td>0.0</td>\n",
       "      <td>0</td>\n",
       "      <td>0.0</td>\n",
       "    </tr>\n",
       "    <tr>\n",
       "      <th>1</th>\n",
       "      <td>2019-01-13</td>\n",
       "      <td>2019-01-13</td>\n",
       "      <td>2019</td>\n",
       "      <td>2</td>\n",
       "      <td>242.79</td>\n",
       "      <td>139.21</td>\n",
       "      <td>103.57</td>\n",
       "      <td>160.01</td>\n",
       "      <td>82.78</td>\n",
       "      <td>4.25</td>\n",
       "      <td>...</td>\n",
       "      <td>1.32</td>\n",
       "      <td>1.16</td>\n",
       "      <td>0.0</td>\n",
       "      <td>0.0</td>\n",
       "      <td>0.0</td>\n",
       "      <td>0.0</td>\n",
       "      <td>0.0</td>\n",
       "      <td>0.0</td>\n",
       "      <td>0</td>\n",
       "      <td>0.0</td>\n",
       "    </tr>\n",
       "    <tr>\n",
       "      <th>2</th>\n",
       "      <td>2019-01-20</td>\n",
       "      <td>2019-01-20</td>\n",
       "      <td>2019</td>\n",
       "      <td>3</td>\n",
       "      <td>227.01</td>\n",
       "      <td>144.06</td>\n",
       "      <td>82.94</td>\n",
       "      <td>163.64</td>\n",
       "      <td>63.36</td>\n",
       "      <td>4.47</td>\n",
       "      <td>...</td>\n",
       "      <td>1.30</td>\n",
       "      <td>1.18</td>\n",
       "      <td>0.0</td>\n",
       "      <td>0.0</td>\n",
       "      <td>0.0</td>\n",
       "      <td>0.0</td>\n",
       "      <td>0.0</td>\n",
       "      <td>0.0</td>\n",
       "      <td>0</td>\n",
       "      <td>0.0</td>\n",
       "    </tr>\n",
       "    <tr>\n",
       "      <th>3</th>\n",
       "      <td>2019-01-27</td>\n",
       "      <td>2019-01-27</td>\n",
       "      <td>2019</td>\n",
       "      <td>4</td>\n",
       "      <td>233.12</td>\n",
       "      <td>163.80</td>\n",
       "      <td>69.31</td>\n",
       "      <td>184.39</td>\n",
       "      <td>48.73</td>\n",
       "      <td>4.64</td>\n",
       "      <td>...</td>\n",
       "      <td>1.30</td>\n",
       "      <td>1.18</td>\n",
       "      <td>0.0</td>\n",
       "      <td>0.0</td>\n",
       "      <td>0.0</td>\n",
       "      <td>0.0</td>\n",
       "      <td>0.0</td>\n",
       "      <td>0.0</td>\n",
       "      <td>0</td>\n",
       "      <td>0.0</td>\n",
       "    </tr>\n",
       "    <tr>\n",
       "      <th>4</th>\n",
       "      <td>2019-02-03</td>\n",
       "      <td>2019-02-03</td>\n",
       "      <td>2019</td>\n",
       "      <td>5</td>\n",
       "      <td>318.48</td>\n",
       "      <td>144.99</td>\n",
       "      <td>173.49</td>\n",
       "      <td>186.59</td>\n",
       "      <td>131.89</td>\n",
       "      <td>4.21</td>\n",
       "      <td>...</td>\n",
       "      <td>1.29</td>\n",
       "      <td>1.18</td>\n",
       "      <td>0.0</td>\n",
       "      <td>0.0</td>\n",
       "      <td>0.0</td>\n",
       "      <td>0.0</td>\n",
       "      <td>0.0</td>\n",
       "      <td>0.0</td>\n",
       "      <td>0</td>\n",
       "      <td>0.0</td>\n",
       "    </tr>\n",
       "  </tbody>\n",
       "</table>\n",
       "<p>5 rows × 28 columns</p>\n",
       "</div>"
      ],
      "text/plain": [
       "         date       zeit  year  week     abs  noproms   proms    babs    zabs  \\\n",
       "0  2019-01-06 2019-01-06  2019     1  171.92    98.20   73.72  137.94   33.98   \n",
       "1  2019-01-13 2019-01-13  2019     2  242.79   139.21  103.57  160.01   82.78   \n",
       "2  2019-01-20 2019-01-20  2019     3  227.01   144.06   82.94  163.64   63.36   \n",
       "3  2019-01-27 2019-01-27  2019     4  233.12   163.80   69.31  184.39   48.73   \n",
       "4  2019-02-03 2019-02-03  2019     5  318.48   144.99  173.49  186.59  131.89   \n",
       "\n",
       "   preis  ...  breit1  breit2  grptv  youtube  facebook  instagram  tiktok  \\\n",
       "0   4.48  ...    1.34    1.19    0.0      0.0       0.0        0.0     0.0   \n",
       "1   4.25  ...    1.32    1.16    0.0      0.0       0.0        0.0     0.0   \n",
       "2   4.47  ...    1.30    1.18    0.0      0.0       0.0        0.0     0.0   \n",
       "3   4.64  ...    1.30    1.18    0.0      0.0       0.0        0.0     0.0   \n",
       "4   4.21  ...    1.29    1.18    0.0      0.0       0.0        0.0     0.0   \n",
       "\n",
       "   programmatik  kamp  covid  \n",
       "0           0.0     0    0.0  \n",
       "1           0.0     0    0.0  \n",
       "2           0.0     0    0.0  \n",
       "3           0.0     0    0.0  \n",
       "4           0.0     0    0.0  \n",
       "\n",
       "[5 rows x 28 columns]"
      ]
     },
     "execution_count": 3,
     "metadata": {},
     "output_type": "execute_result"
    }
   ],
   "source": [
    "zott = pd.read_stata(\"zott22.dta\")\n",
    "zott.head()"
   ]
  },
  {
   "cell_type": "markdown",
   "metadata": {},
   "source": [
    "## Ab hier Shaper"
   ]
  },
  {
   "cell_type": "code",
   "execution_count": 5,
   "metadata": {},
   "outputs": [],
   "source": [
    "# Definition der Variablen\n",
    "sales = \"abs\"\n",
    "media = [\"grptv\", \"youtube\", \"facebook\", \"programmatik\", \"instagram\", \"tiktok\"]\n",
    "media_type = [\"tv\", \"olv\", \"social\", \"banner\", \"social\", \"olv\"]\n"
   ]
  },
  {
   "cell_type": "code",
   "execution_count": 7,
   "metadata": {},
   "outputs": [
    {
     "data": {
      "text/html": [
       "<div>\n",
       "<style scoped>\n",
       "    .dataframe tbody tr th:only-of-type {\n",
       "        vertical-align: middle;\n",
       "    }\n",
       "\n",
       "    .dataframe tbody tr th {\n",
       "        vertical-align: top;\n",
       "    }\n",
       "\n",
       "    .dataframe thead th {\n",
       "        text-align: right;\n",
       "    }\n",
       "</style>\n",
       "<table border=\"1\" class=\"dataframe\">\n",
       "  <thead>\n",
       "    <tr style=\"text-align: right;\">\n",
       "      <th></th>\n",
       "      <th>AdStock</th>\n",
       "      <th>Gamma</th>\n",
       "    </tr>\n",
       "  </thead>\n",
       "  <tbody>\n",
       "    <tr>\n",
       "      <th>grptv</th>\n",
       "      <td>0.900000</td>\n",
       "      <td>0.300000</td>\n",
       "    </tr>\n",
       "    <tr>\n",
       "      <th>youtube</th>\n",
       "      <td>0.777778</td>\n",
       "      <td>0.300000</td>\n",
       "    </tr>\n",
       "    <tr>\n",
       "      <th>facebook</th>\n",
       "      <td>0.300000</td>\n",
       "      <td>0.300000</td>\n",
       "    </tr>\n",
       "    <tr>\n",
       "      <th>programmatik</th>\n",
       "      <td>0.600000</td>\n",
       "      <td>0.300000</td>\n",
       "    </tr>\n",
       "    <tr>\n",
       "      <th>instagram</th>\n",
       "      <td>0.350000</td>\n",
       "      <td>0.633333</td>\n",
       "    </tr>\n",
       "    <tr>\n",
       "      <th>tiktok</th>\n",
       "      <td>0.666667</td>\n",
       "      <td>0.300000</td>\n",
       "    </tr>\n",
       "  </tbody>\n",
       "</table>\n",
       "</div>"
      ],
      "text/plain": [
       "               AdStock     Gamma\n",
       "grptv         0.900000  0.300000\n",
       "youtube       0.777778  0.300000\n",
       "facebook      0.300000  0.300000\n",
       "programmatik  0.600000  0.300000\n",
       "instagram     0.350000  0.633333\n",
       "tiktok        0.666667  0.300000"
      ]
     },
     "execution_count": 7,
     "metadata": {},
     "output_type": "execute_result"
    }
   ],
   "source": [
    "# Optimale AdStocks und Gamma\n",
    "shape_params = shap_search(df=zott, target=sales, media_features=media, mtype=media_type, log=False)\n",
    "shape_params"
   ]
  },
  {
   "cell_type": "code",
   "execution_count": 8,
   "metadata": {},
   "outputs": [],
   "source": [
    "# Speichern der Shape Variablen im Datensatz\n",
    "for v in media:\n",
    "    zott[f\"shape_{v}\"] = norm_transform(zott[v], adstock=shape_params.loc[v, \"AdStock\"], hill=shape_params.loc[v, \"Gamma\"])"
   ]
  },
  {
   "cell_type": "markdown",
   "metadata": {},
   "source": [
    "## Ab hier dann Modeller\n"
   ]
  },
  {
   "cell_type": "code",
   "execution_count": 11,
   "metadata": {},
   "outputs": [],
   "source": [
    "# Hier Fake Zahlen, im Echten Modellung naürlich die priors aus robyn nehmen\n",
    "robyn = [0.55, 0.79, 0.79, 0.76, 0.93, 0.20]\n",
    "shape_var = [c for c in zott.columns if c.startswith(\"shape_\")]"
   ]
  },
  {
   "cell_type": "code",
   "execution_count": 12,
   "metadata": {},
   "outputs": [],
   "source": [
    "Cont, Eff = modell_optimizer(df=zott, target=\"abs\", impression_var=media, shape_var=shape_var, robyn_value=robyn, runs=1000)"
   ]
  },
  {
   "cell_type": "code",
   "execution_count": 14,
   "metadata": {},
   "outputs": [
    {
     "data": {
      "text/plain": [
       "array([0.495     , 0.869     , 0.83388889, 0.836     , 0.85766667,\n",
       "       0.19333333])"
      ]
     },
     "execution_count": 14,
     "metadata": {},
     "output_type": "execute_result"
    }
   ],
   "source": [
    "Cont.sum().values / zott[media].sum().values"
   ]
  },
  {
   "cell_type": "code",
   "execution_count": 16,
   "metadata": {},
   "outputs": [
    {
     "data": {
      "text/plain": [
       "array([0.495     , 0.869     , 0.83388889, 0.836     , 0.85766667,\n",
       "       0.19333333])"
      ]
     },
     "execution_count": 16,
     "metadata": {},
     "output_type": "execute_result"
    }
   ],
   "source": [
    "Eff"
   ]
  },
  {
   "cell_type": "code",
   "execution_count": 17,
   "metadata": {},
   "outputs": [
    {
     "data": {
      "text/plain": [
       "[0.55, 0.79, 0.79, 0.76, 0.93, 0.2]"
      ]
     },
     "execution_count": 17,
     "metadata": {},
     "output_type": "execute_result"
    }
   ],
   "source": [
    "robyn"
   ]
  },
  {
   "cell_type": "code",
   "execution_count": null,
   "metadata": {},
   "outputs": [],
   "source": []
  }
 ],
 "metadata": {
  "kernelspec": {
   "display_name": "Python 3",
   "language": "python",
   "name": "python3"
  },
  "language_info": {
   "codemirror_mode": {
    "name": "ipython",
    "version": 3
   },
   "file_extension": ".py",
   "mimetype": "text/x-python",
   "name": "python",
   "nbconvert_exporter": "python",
   "pygments_lexer": "ipython3",
   "version": "3.11.1"
  },
  "orig_nbformat": 4
 },
 "nbformat": 4,
 "nbformat_minor": 2
}
