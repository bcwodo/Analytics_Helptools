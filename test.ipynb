{
 "cells": [
  {
   "cell_type": "code",
   "execution_count": 1,
   "metadata": {},
   "outputs": [],
   "source": [
    "from bcshapley import *\n",
    "import pandas as pd\n",
    "import numpy as np"
   ]
  },
  {
   "cell_type": "code",
   "execution_count": 2,
   "metadata": {},
   "outputs": [],
   "source": [
    "\n",
    "\n",
    "df = pd.DataFrame(np.random.randn(10,6))\n",
    "# Make a few areas have NaN values\n",
    "df.iloc[1:3,1] = np.nan\n",
    "df.iloc[5,3] = np.nan\n",
    "df.iloc[7:9,5] = np.nan\n",
    "df.columns = [\"Y\"] + [f\"X{i}\" for i in range(1,6)]\n",
    "\n",
    "\n",
    "df2 = pd.DataFrame(np.random.randn(10,6))\n",
    "# Make a few areas have NaN values\n",
    "df2.columns = [\"Y\"] + [f\"X{i}\" for i in range(1,6)]"
   ]
  },
  {
   "cell_type": "code",
   "execution_count": 3,
   "metadata": {},
   "outputs": [
    {
     "data": {
      "text/plain": [
       "(True, False)"
      ]
     },
     "execution_count": 3,
     "metadata": {},
     "output_type": "execute_result"
    }
   ],
   "source": [
    "UV = [f\"X{i}\" for i in range(1,6)]\n",
    "AV = \"Y\"\n",
    "\n",
    "has_missings(df, AV, UV), has_missings(df2, AV, UV) "
   ]
  },
  {
   "cell_type": "code",
   "execution_count": 4,
   "metadata": {},
   "outputs": [
    {
     "data": {
      "text/plain": [
       "(5, 0)"
      ]
     },
     "execution_count": 4,
     "metadata": {},
     "output_type": "execute_result"
    }
   ],
   "source": [
    "count_missings(df, AV, UV), count_missings(df2, AV, UV) "
   ]
  },
  {
   "cell_type": "code",
   "execution_count": 8,
   "metadata": {},
   "outputs": [
    {
     "data": {
      "text/html": [
       "<div>\n",
       "<style scoped>\n",
       "    .dataframe tbody tr th:only-of-type {\n",
       "        vertical-align: middle;\n",
       "    }\n",
       "\n",
       "    .dataframe tbody tr th {\n",
       "        vertical-align: top;\n",
       "    }\n",
       "\n",
       "    .dataframe thead th {\n",
       "        text-align: right;\n",
       "    }\n",
       "</style>\n",
       "<table border=\"1\" class=\"dataframe\">\n",
       "  <thead>\n",
       "    <tr style=\"text-align: right;\">\n",
       "      <th></th>\n",
       "      <th>Y</th>\n",
       "      <th>X1</th>\n",
       "      <th>X2</th>\n",
       "      <th>X3</th>\n",
       "      <th>X4</th>\n",
       "      <th>X5</th>\n",
       "    </tr>\n",
       "  </thead>\n",
       "  <tbody>\n",
       "    <tr>\n",
       "      <th>0</th>\n",
       "      <td>1.282418</td>\n",
       "      <td>-0.862923</td>\n",
       "      <td>-1.383857</td>\n",
       "      <td>0.245327</td>\n",
       "      <td>-0.243993</td>\n",
       "      <td>0.713343</td>\n",
       "    </tr>\n",
       "    <tr>\n",
       "      <th>1</th>\n",
       "      <td>0.517059</td>\n",
       "      <td>0.356098</td>\n",
       "      <td>0.594248</td>\n",
       "      <td>-0.593833</td>\n",
       "      <td>-0.879089</td>\n",
       "      <td>0.555742</td>\n",
       "    </tr>\n",
       "    <tr>\n",
       "      <th>2</th>\n",
       "      <td>-0.643628</td>\n",
       "      <td>0.356098</td>\n",
       "      <td>1.780567</td>\n",
       "      <td>-0.101305</td>\n",
       "      <td>0.368395</td>\n",
       "      <td>0.668205</td>\n",
       "    </tr>\n",
       "    <tr>\n",
       "      <th>3</th>\n",
       "      <td>-0.055213</td>\n",
       "      <td>0.608803</td>\n",
       "      <td>-0.220795</td>\n",
       "      <td>-0.649243</td>\n",
       "      <td>-0.397204</td>\n",
       "      <td>0.190863</td>\n",
       "    </tr>\n",
       "    <tr>\n",
       "      <th>4</th>\n",
       "      <td>0.098559</td>\n",
       "      <td>-1.484804</td>\n",
       "      <td>2.477333</td>\n",
       "      <td>-0.423742</td>\n",
       "      <td>0.409557</td>\n",
       "      <td>-0.233102</td>\n",
       "    </tr>\n",
       "    <tr>\n",
       "      <th>5</th>\n",
       "      <td>0.946164</td>\n",
       "      <td>0.532840</td>\n",
       "      <td>0.232370</td>\n",
       "      <td>-0.593833</td>\n",
       "      <td>-1.222718</td>\n",
       "      <td>2.207043</td>\n",
       "    </tr>\n",
       "    <tr>\n",
       "      <th>6</th>\n",
       "      <td>-0.886375</td>\n",
       "      <td>-0.723528</td>\n",
       "      <td>-0.071264</td>\n",
       "      <td>-2.466216</td>\n",
       "      <td>1.713251</td>\n",
       "      <td>0.795732</td>\n",
       "    </tr>\n",
       "    <tr>\n",
       "      <th>7</th>\n",
       "      <td>-0.269416</td>\n",
       "      <td>0.371716</td>\n",
       "      <td>-0.493538</td>\n",
       "      <td>-0.820438</td>\n",
       "      <td>-0.247815</td>\n",
       "      <td>0.611974</td>\n",
       "    </tr>\n",
       "    <tr>\n",
       "      <th>8</th>\n",
       "      <td>0.947512</td>\n",
       "      <td>1.218924</td>\n",
       "      <td>-0.395471</td>\n",
       "      <td>-0.058393</td>\n",
       "      <td>0.183542</td>\n",
       "      <td>0.611974</td>\n",
       "    </tr>\n",
       "    <tr>\n",
       "      <th>9</th>\n",
       "      <td>1.072449</td>\n",
       "      <td>0.340481</td>\n",
       "      <td>0.814189</td>\n",
       "      <td>-0.975608</td>\n",
       "      <td>-0.055715</td>\n",
       "      <td>-0.512542</td>\n",
       "    </tr>\n",
       "  </tbody>\n",
       "</table>\n",
       "</div>"
      ],
      "text/plain": [
       "          Y        X1        X2        X3        X4        X5\n",
       "0  1.282418 -0.862923 -1.383857  0.245327 -0.243993  0.713343\n",
       "1  0.517059  0.356098  0.594248 -0.593833 -0.879089  0.555742\n",
       "2 -0.643628  0.356098  1.780567 -0.101305  0.368395  0.668205\n",
       "3 -0.055213  0.608803 -0.220795 -0.649243 -0.397204  0.190863\n",
       "4  0.098559 -1.484804  2.477333 -0.423742  0.409557 -0.233102\n",
       "5  0.946164  0.532840  0.232370 -0.593833 -1.222718  2.207043\n",
       "6 -0.886375 -0.723528 -0.071264 -2.466216  1.713251  0.795732\n",
       "7 -0.269416  0.371716 -0.493538 -0.820438 -0.247815  0.611974\n",
       "8  0.947512  1.218924 -0.395471 -0.058393  0.183542  0.611974\n",
       "9  1.072449  0.340481  0.814189 -0.975608 -0.055715 -0.512542"
      ]
     },
     "execution_count": 8,
     "metadata": {},
     "output_type": "execute_result"
    }
   ],
   "source": [
    "temp = imp_median(df, AV, UV)\n",
    "temp"
   ]
  },
  {
   "cell_type": "code",
   "execution_count": 6,
   "metadata": {},
   "outputs": [
    {
     "data": {
      "text/plain": [
       "Y     0.307809\n",
       "X1    0.356098\n",
       "X2    0.080553\n",
       "X3   -0.593833\n",
       "X4   -0.149854\n",
       "X5    0.611974\n",
       "dtype: float64"
      ]
     },
     "execution_count": 6,
     "metadata": {},
     "output_type": "execute_result"
    }
   ],
   "source": [
    "df.median()"
   ]
  },
  {
   "cell_type": "code",
   "execution_count": 7,
   "metadata": {},
   "outputs": [
    {
     "data": {
      "text/html": [
       "<div>\n",
       "<style scoped>\n",
       "    .dataframe tbody tr th:only-of-type {\n",
       "        vertical-align: middle;\n",
       "    }\n",
       "\n",
       "    .dataframe tbody tr th {\n",
       "        vertical-align: top;\n",
       "    }\n",
       "\n",
       "    .dataframe thead th {\n",
       "        text-align: right;\n",
       "    }\n",
       "</style>\n",
       "<table border=\"1\" class=\"dataframe\">\n",
       "  <thead>\n",
       "    <tr style=\"text-align: right;\">\n",
       "      <th></th>\n",
       "      <th>Y</th>\n",
       "      <th>X1</th>\n",
       "      <th>X2</th>\n",
       "      <th>X3</th>\n",
       "      <th>X4</th>\n",
       "      <th>X5</th>\n",
       "    </tr>\n",
       "  </thead>\n",
       "  <tbody>\n",
       "    <tr>\n",
       "      <th>0</th>\n",
       "      <td>1.282418</td>\n",
       "      <td>-0.862923</td>\n",
       "      <td>-1.383857</td>\n",
       "      <td>0.245327</td>\n",
       "      <td>-0.243993</td>\n",
       "      <td>0.713343</td>\n",
       "    </tr>\n",
       "    <tr>\n",
       "      <th>1</th>\n",
       "      <td>0.517059</td>\n",
       "      <td>NaN</td>\n",
       "      <td>0.594248</td>\n",
       "      <td>-0.593833</td>\n",
       "      <td>-0.879089</td>\n",
       "      <td>0.555742</td>\n",
       "    </tr>\n",
       "    <tr>\n",
       "      <th>2</th>\n",
       "      <td>-0.643628</td>\n",
       "      <td>NaN</td>\n",
       "      <td>1.780567</td>\n",
       "      <td>-0.101305</td>\n",
       "      <td>0.368395</td>\n",
       "      <td>0.668205</td>\n",
       "    </tr>\n",
       "    <tr>\n",
       "      <th>3</th>\n",
       "      <td>-0.055213</td>\n",
       "      <td>0.608803</td>\n",
       "      <td>-0.220795</td>\n",
       "      <td>-0.649243</td>\n",
       "      <td>-0.397204</td>\n",
       "      <td>0.190863</td>\n",
       "    </tr>\n",
       "    <tr>\n",
       "      <th>4</th>\n",
       "      <td>0.098559</td>\n",
       "      <td>-1.484804</td>\n",
       "      <td>2.477333</td>\n",
       "      <td>-0.423742</td>\n",
       "      <td>0.409557</td>\n",
       "      <td>-0.233102</td>\n",
       "    </tr>\n",
       "    <tr>\n",
       "      <th>5</th>\n",
       "      <td>0.946164</td>\n",
       "      <td>0.532840</td>\n",
       "      <td>0.232370</td>\n",
       "      <td>NaN</td>\n",
       "      <td>-1.222718</td>\n",
       "      <td>2.207043</td>\n",
       "    </tr>\n",
       "    <tr>\n",
       "      <th>6</th>\n",
       "      <td>-0.886375</td>\n",
       "      <td>-0.723528</td>\n",
       "      <td>-0.071264</td>\n",
       "      <td>-2.466216</td>\n",
       "      <td>1.713251</td>\n",
       "      <td>0.795732</td>\n",
       "    </tr>\n",
       "    <tr>\n",
       "      <th>7</th>\n",
       "      <td>-0.269416</td>\n",
       "      <td>0.371716</td>\n",
       "      <td>-0.493538</td>\n",
       "      <td>-0.820438</td>\n",
       "      <td>-0.247815</td>\n",
       "      <td>NaN</td>\n",
       "    </tr>\n",
       "    <tr>\n",
       "      <th>8</th>\n",
       "      <td>0.947512</td>\n",
       "      <td>1.218924</td>\n",
       "      <td>-0.395471</td>\n",
       "      <td>-0.058393</td>\n",
       "      <td>0.183542</td>\n",
       "      <td>NaN</td>\n",
       "    </tr>\n",
       "    <tr>\n",
       "      <th>9</th>\n",
       "      <td>1.072449</td>\n",
       "      <td>0.340481</td>\n",
       "      <td>0.814189</td>\n",
       "      <td>-0.975608</td>\n",
       "      <td>-0.055715</td>\n",
       "      <td>-0.512542</td>\n",
       "    </tr>\n",
       "  </tbody>\n",
       "</table>\n",
       "</div>"
      ],
      "text/plain": [
       "          Y        X1        X2        X3        X4        X5\n",
       "0  1.282418 -0.862923 -1.383857  0.245327 -0.243993  0.713343\n",
       "1  0.517059       NaN  0.594248 -0.593833 -0.879089  0.555742\n",
       "2 -0.643628       NaN  1.780567 -0.101305  0.368395  0.668205\n",
       "3 -0.055213  0.608803 -0.220795 -0.649243 -0.397204  0.190863\n",
       "4  0.098559 -1.484804  2.477333 -0.423742  0.409557 -0.233102\n",
       "5  0.946164  0.532840  0.232370       NaN -1.222718  2.207043\n",
       "6 -0.886375 -0.723528 -0.071264 -2.466216  1.713251  0.795732\n",
       "7 -0.269416  0.371716 -0.493538 -0.820438 -0.247815       NaN\n",
       "8  0.947512  1.218924 -0.395471 -0.058393  0.183542       NaN\n",
       "9  1.072449  0.340481  0.814189 -0.975608 -0.055715 -0.512542"
      ]
     },
     "execution_count": 7,
     "metadata": {},
     "output_type": "execute_result"
    }
   ],
   "source": [
    "df"
   ]
  },
  {
   "cell_type": "code",
   "execution_count": 13,
   "metadata": {},
   "outputs": [
    {
     "name": "stdout",
     "output_type": "stream",
     "text": [
      "-------------------------------------------------| 500\n"
     ]
    },
    {
     "data": {
      "text/plain": [
       "X1    0.149702\n",
       "X2    0.079952\n",
       "X3    0.103630\n",
       "X4    0.641269\n",
       "X5    0.025446\n",
       "dtype: float64"
      ]
     },
     "execution_count": 13,
     "metadata": {},
     "output_type": "execute_result"
    }
   ],
   "source": [
    "shapreg(df2, AV, UV)\n"
   ]
  },
  {
   "cell_type": "code",
   "execution_count": 12,
   "metadata": {},
   "outputs": [
    {
     "name": "stdout",
     "output_type": "stream",
     "text": [
      "-------------------------------------------------| 500\n"
     ]
    },
    {
     "data": {
      "text/plain": [
       "X1    0.030017\n",
       "X2    0.134632\n",
       "X3    0.346764\n",
       "X4    0.475542\n",
       "X5    0.013044\n",
       "dtype: float64"
      ]
     },
     "execution_count": 12,
     "metadata": {},
     "output_type": "execute_result"
    }
   ],
   "source": [
    "shapreg(temp, AV, UV)"
   ]
  },
  {
   "cell_type": "code",
   "execution_count": null,
   "metadata": {},
   "outputs": [],
   "source": []
  }
 ],
 "metadata": {
  "kernelspec": {
   "display_name": "Python 3",
   "language": "python",
   "name": "python3"
  },
  "language_info": {
   "codemirror_mode": {
    "name": "ipython",
    "version": 3
   },
   "file_extension": ".py",
   "mimetype": "text/x-python",
   "name": "python",
   "nbconvert_exporter": "python",
   "pygments_lexer": "ipython3",
   "version": "3.11.1"
  },
  "orig_nbformat": 4
 },
 "nbformat": 4,
 "nbformat_minor": 2
}
